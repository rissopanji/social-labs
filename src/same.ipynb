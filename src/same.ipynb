{
 "cells": [
  {
   "cell_type": "code",
   "execution_count": 6,
   "metadata": {},
   "outputs": [],
   "source": [
    "import pandas as pd\n",
    "import os\n",
    "\n",
    "input_directory = \"../tweets-data\"\n",
    "output_file = \"../tweets-data/final-file/combined.csv\"\n",
    "\n",
    "# Create an empty list to hold DataFrames\n",
    "data_frames = []\n",
    "\n",
    "for filename in os.listdir(input_directory):\n",
    "    if filename.endswith(\".csv\"):\n",
    "        file_path = os.path.join(input_directory, filename)\n",
    "        df = pd.read_csv(file_path)\n",
    "        data_frames.append(df)\n",
    "\n",
    "# Concatenate all DataFrames in the list\n",
    "combined_data = pd.concat(data_frames, ignore_index=True)\n",
    "\n",
    "# Remove duplicates based on all columns\n",
    "combined_data = combined_data.drop_duplicates()\n",
    "\n",
    "# Save the combined data to a CSV file\n",
    "combined_data.to_csv(output_file, index=False)\n"
   ]
  },
  {
   "cell_type": "code",
   "execution_count": 7,
   "metadata": {},
   "outputs": [
    {
     "name": "stdout",
     "output_type": "stream",
     "text": [
      "Jumlah data: 115\n"
     ]
    }
   ],
   "source": [
    "with open(\"../tweets-data/final-file/combined.csv\", \"r\", encoding=\"utf-8\") as file:\n",
    "    jumlah_data = sum(1 for _ in file)\n",
    "\n",
    "print(f\"Jumlah data: {jumlah_data}\")\n"
   ]
  }
 ],
 "metadata": {
  "kernelspec": {
   "display_name": "Python 3",
   "language": "python",
   "name": "python3"
  },
  "language_info": {
   "codemirror_mode": {
    "name": "ipython",
    "version": 3
   },
   "file_extension": ".py",
   "mimetype": "text/x-python",
   "name": "python",
   "nbconvert_exporter": "python",
   "pygments_lexer": "ipython3",
   "version": "3.12.0"
  }
 },
 "nbformat": 4,
 "nbformat_minor": 2
}
